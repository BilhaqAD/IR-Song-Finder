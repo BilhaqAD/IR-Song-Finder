{
 "cells": [
  {
   "cell_type": "code",
   "execution_count": 45,
   "metadata": {},
   "outputs": [],
   "source": [
    "import pandas as pd\n",
    "import numpy as np\n",
    "\n",
    "from tkinter import *\n",
    "from sklearn.metrics.pairwise import cosine_similarity\n",
    "from sklearn.feature_extraction.text import TfidfVectorizer"
   ]
  },
  {
   "cell_type": "code",
   "execution_count": 46,
   "metadata": {},
   "outputs": [],
   "source": [
    "df = pd.read_csv(\"https://raw.githubusercontent.com/revanfz/revanfz/main/dataset_lirik.csv\", encoding=\"utf-8\")"
   ]
  },
  {
   "cell_type": "code",
   "execution_count": 47,
   "metadata": {},
   "outputs": [],
   "source": [
    "df[\"lirik\"] = df[\"lirik\"].replace(r'\\n', ' ', regex=True).str.casefold()"
   ]
  },
  {
   "cell_type": "code",
   "execution_count": null,
   "metadata": {},
   "outputs": [],
   "source": [
    "df"
   ]
  },
  {
   "cell_type": "code",
   "execution_count": 49,
   "metadata": {},
   "outputs": [],
   "source": [
    "kumpulan_lirik = df[\"lirik\"].tolist()"
   ]
  },
  {
   "cell_type": "code",
   "execution_count": 50,
   "metadata": {},
   "outputs": [],
   "source": [
    "tfidf_v = TfidfVectorizer()\n",
    "vektor_lirik = tfidf_v.fit_transform(kumpulan_lirik)"
   ]
  },
  {
   "cell_type": "code",
   "execution_count": 70,
   "metadata": {},
   "outputs": [],
   "source": [
    "window = Tk()\n",
    "input_text = StringVar()\n",
    "window.geometry(\"480x480\")\n",
    "window.title(\"Song Finder\")\n",
    "\n",
    "homepage = Frame(window)\n",
    "\n",
    "homepage.grid(row=0, column=0, sticky='news')"
   ]
  },
  {
   "cell_type": "code",
   "execution_count": 69,
   "metadata": {},
   "outputs": [],
   "source": [
    "def cari_lagu():\n",
    "    query = input_text.get().lower()\n",
    "    query_vektor = tfidf_v.transform([query])\n",
    "    cos_sim = cosine_similarity(query_vektor, vektor_lirik)\n",
    "    sorted_index = np.argsort(cos_sim)[0][::-1]\n",
    "    index_relevan = []\n",
    "    for i in sorted_index:\n",
    "    # Memfilter hasil dokumen yang memiliki nilai cosine similarity > 0\n",
    "        if cos_sim[0][i] > 0:\n",
    "            index_relevan.append([i, cos_sim[0][i]])\n",
    "            \n",
    "    for i in index_relevan:\n",
    "        print(\"Dokumen {} memiliki cosine similarity sebesar {:.2f}\".format(i[0], i[1]))\n",
    "    print(f\"Dokumen relevan yang dihasilkan sistem yakni : {len(index_relevan)} \")\n",
    "\n",
    "    lagu = []\n",
    "    for i in index_relevan:\n",
    "        x = df.iloc[i[0]]['judul']\n",
    "        y = df.iloc[i[0]]['artis']\n",
    "        z = df.iloc[i[0]]['lirik']\n",
    "        lagu.append([x, y, z])\n",
    "\n",
    "    hasil = Frame(window)\n",
    "    hasil.grid(row=0, column=0, sticky='news')\n",
    "    hasil.tkraise()\n",
    "    Label(hasil, text=\"Lagu yang anda cari adalah: \",  font=(\"Times\",20,\"bold\")).pack()\n",
    "    Label(hasil, text=lagu[0][0]).pack()\n",
    "    Button(hasil, text=\"search again\", command=lambda:hasil.destroy()).pack()\n",
    "    Button(hasil, text=\"close\", command=lambda:window.destroy()).pack()"
   ]
  },
  {
   "cell_type": "code",
   "execution_count": 71,
   "metadata": {},
   "outputs": [
    {
     "name": "stdout",
     "output_type": "stream",
     "text": [
      "Dokumen 5 memiliki cosine similarity sebesar 0.18\n",
      "Dokumen 2 memiliki cosine similarity sebesar 0.09\n",
      "Dokumen 10 memiliki cosine similarity sebesar 0.04\n",
      "Dokumen 9 memiliki cosine similarity sebesar 0.03\n",
      "Dokumen relevan yang dihasilkan sistem yakni : 4 \n",
      "Dokumen 9 memiliki cosine similarity sebesar 0.13\n",
      "Dokumen 5 memiliki cosine similarity sebesar 0.11\n",
      "Dokumen 2 memiliki cosine similarity sebesar 0.06\n",
      "Dokumen 8 memiliki cosine similarity sebesar 0.03\n",
      "Dokumen 10 memiliki cosine similarity sebesar 0.03\n",
      "Dokumen relevan yang dihasilkan sistem yakni : 5 \n"
     ]
    }
   ],
   "source": [
    "Label(homepage, text=\"Song Finder\", bg=\"teal\", fg=\"white\").pack()\n",
    "Entry(homepage, text=\"Masukkan penggalan lirik\", textvariable=input_text).pack()\n",
    "Button(homepage, text=\"Cari\", command=lambda:cari_lagu()).pack()\n",
    "\n",
    "homepage.tkraise()\n",
    "window.mainloop()"
   ]
  }
 ],
 "metadata": {
  "kernelspec": {
   "display_name": "Python 3",
   "language": "python",
   "name": "python3"
  },
  "language_info": {
   "codemirror_mode": {
    "name": "ipython",
    "version": 3
   },
   "file_extension": ".py",
   "mimetype": "text/x-python",
   "name": "python",
   "nbconvert_exporter": "python",
   "pygments_lexer": "ipython3",
   "version": "3.10.6"
  },
  "orig_nbformat": 4
 },
 "nbformat": 4,
 "nbformat_minor": 2
}
