{
 "cells": [
  {
   "cell_type": "code",
   "execution_count": 1,
   "metadata": {},
   "outputs": [],
   "source": [
    "import pandas as pd\n",
    "import numpy as np\n",
    "\n",
    "from tkinter import *\n",
    "from sklearn.metrics.pairwise import cosine_similarity\n",
    "from sklearn.feature_extraction.text import TfidfVectorizer"
   ]
  },
  {
   "cell_type": "code",
   "execution_count": 34,
   "metadata": {},
   "outputs": [],
   "source": [
    "window = Tk()\n",
    "query = StringVar()\n",
    "window.geometry(\"480x480\")\n",
    "window.title(\"Song Finder\")\n",
    "\n",
    "homepage = Frame(window)\n",
    "\n",
    "homepage.grid(row=0, column=0, sticky='news')"
   ]
  },
  {
   "cell_type": "code",
   "execution_count": 33,
   "metadata": {},
   "outputs": [],
   "source": [
    "def cari_lagu():\n",
    "    hasil = Frame(window)\n",
    "    hasil.grid(row=0, column=0, sticky='news')\n",
    "    hasil.tkraise()\n",
    "    Label(hasil, text=\"Lagu yang anda cari adalah: \",  font=(\"Times\",20,\"bold\")).pack()\n",
    "    Label(hasil, text=query.get()).pack()\n",
    "    Button(hasil, text=\"search again\", command=lambda:hasil.destroy()).pack()\n",
    "    Button(hasil, text=\"close\", command=lambda:window.destroy()).pack()"
   ]
  },
  {
   "cell_type": "code",
   "execution_count": 35,
   "metadata": {},
   "outputs": [],
   "source": [
    "Label(homepage, text=\"Song Finder\", bg=\"teal\", fg=\"white\").pack()\n",
    "Entry(homepage, text=\"Masukkan penggalan lirik\", textvariable=query).pack()\n",
    "Button(homepage, text=\"Cari\", command=lambda:cari_lagu()).pack()\n",
    "\n",
    "homepage.tkraise()\n",
    "window.mainloop()"
   ]
  }
 ],
 "metadata": {
  "kernelspec": {
   "display_name": "Python 3",
   "language": "python",
   "name": "python3"
  },
  "language_info": {
   "codemirror_mode": {
    "name": "ipython",
    "version": 3
   },
   "file_extension": ".py",
   "mimetype": "text/x-python",
   "name": "python",
   "nbconvert_exporter": "python",
   "pygments_lexer": "ipython3",
   "version": "3.10.6"
  },
  "orig_nbformat": 4
 },
 "nbformat": 4,
 "nbformat_minor": 2
}
